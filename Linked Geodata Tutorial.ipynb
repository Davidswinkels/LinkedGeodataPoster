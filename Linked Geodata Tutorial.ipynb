{
 "cells": [
  {
   "cell_type": "markdown",
   "metadata": {
    "collapsed": true
   },
   "source": [
    "# Linked Geodata poster\n",
    "- Author: David Swinkels\n",
    "- Date 24 August 2018\n"
   ]
  },
  {
   "cell_type": "markdown",
   "metadata": {},
   "source": [
    "# Introduction\n",
    "\n",
    "<div style=\"text-align: justify\"> Linked data is a set of design principles to publish data on the web and to perform data management to save relations of features in a graph database. Linked data provides the best current method to make links in data understandable by machines and humans via the web and locally. Linked geodata adds a spatial component to linked data. </div>\n",
    "\n",
    "This notebook will showcase some theory and how to make linked geodata."
   ]
  },
  {
   "cell_type": "code",
   "execution_count": 2,
   "metadata": {},
   "outputs": [],
   "source": [
    "# Import all libraries\n",
    "import rdflib\n",
    "import geopandas\n",
    "import pandas\n",
    "import requests\n",
    "\n",
    "\n",
    "from rdflib import Graph, Namespace, RDF, RDFS, OWL"
   ]
  },
  {
   "cell_type": "markdown",
   "metadata": {},
   "source": [
    "# Concept\n",
    "<div style=\"text-align: justify\"> The concept of linked data is elegantly simple; storing relations and sharing individual resources via unique IRIs. Linked data is often visualized in a graph to show relations (see figure below) and the data is stored in relations as triples instead of values in columns and rows. A triple consists of three resources: a subject, a predicate and an object. The predicate defines the type of relation the subject and object have. Furthermore, each resource, whether that is a subject, predicate or object, is stored as an IRI. An IRI is an International Resource Identifier and similar as a Uniform Resource Identifier [URI] or Uniform Resource Locator [URL], but an IRI also allows international characters. Objects can optionally be stored as literals, such as a string, integer or date. Triples store relations in a framework called Resource Description Framework [RDF]. RDF supports data merging with different schemas and evolving schemas. Linked data allows a query to find out who the grandfather of Angie is based on semantic relations. </div>\n",
    "\n",
    "<img src=\"./images/LinkedDataGraph.png\">"
   ]
  },
  {
   "cell_type": "markdown",
   "metadata": {},
   "source": [
    "<div style=\"text-align: justify\"> An RDF stores a vocabulary and instances. A vocabulary defines the concepts and relationships in an area of concern. Vocabularies store classes and properties.Instances are entities of classes. </div>\n",
    "\n",
    "|Triple notation: | subject | predicate | object |\n",
    "|------|------|------|------|\n",
    "|Class definition: | <dbo:Person> | <rdf:type> | <rdfs:Class> |\n",
    "|Property definition: | <dbo:spouse> | <rdf:type> | <owl:ObjectProperty>|\n",
    "|Entity instance: | <person:Maggie> | <rdf:type> | <dbo:Person>|\n",
    "|Relation instance: | <person:Maggie> | <dbo:spouse> | <person:Peter>|\n",
    "|Value instance: | <person:Angie> | <dbo:birthDate> | 15 May 2001|\n",
    "\n",
    "\n",
    "\n",
    "\n",
    "<div style=\"text-align: justify\"> Long IRIs, that link to unique resources, are shortened with a prefix to improve readability and save data storage. IRI 'http://www.dbpedia.org/ontology/Person' is shortened to dbo:Person. Dbo is the shortened prefix that links to the namespace 'http://www.dbpedia.org/ontology/' and Person is the unique ID or Class. Instead of having to say 'http://www.dbpedia.org/ontology/Mother', you can refer to the IRI as dbo:Mother. The prefix and namespaces are defined in the RDF file before the triple instances. The graph is stored as triples with namespaces and prefixes. These namespaces and prefixes can be re-used. This is very powerful, because the semantics are persistent and are used across domains. One public ontology is the building ontology from the land administration office in the Netherlands. This ontology stores all classes, properties, concepts, regulations and restrictions of building data as can be seen below. </div>\n"
   ]
  },
  {
   "cell_type": "code",
   "execution_count": 4,
   "metadata": {},
   "outputs": [],
   "source": [
    "# Download building Ontology\n",
    "tripleHeader = {'Accept': 'text/turtle'}\n",
    "response = requests.get(\"http://bag.basisregistraties.overheid.nl/def/bag\", headers=tripleHeader)\n",
    "#print(response.text)"
   ]
  },
  {
   "cell_type": "markdown",
   "metadata": {},
   "source": [
    "The downloaded building ontology is very complete. We will get some more hands-on experience with linked data by making our own ontology. The goal is to define classes and relations to be able to integrate multiple types of data. The building data of the BAG is seperated in buildings, addresses and building functions. An ontology makes it possible to create entities that are connected."
   ]
  },
  {
   "cell_type": "code",
   "execution_count": 6,
   "metadata": {},
   "outputs": [],
   "source": [
    "# Create simple building ontology\n",
    "g = Graph()\n",
    "\n",
    "building = Namespace('https://bag.basisregistraties.overheid.nl/bag/doc/pand/')\n",
    "address = Namespace('https://bag.basisregistraties.overheid.nl/bag/doc/adres/')\n",
    "buildingFunction = Namespace('https://bag.basisregistraties.overheid.nl/bag/doc/verblijfsobject/')\n",
    "bag = Namespace('http://bag.basisregistraties.overheid.nl/def/bag#')\n",
    "g.bind(prefix=\"bag\", namespace=bag)\n",
    "\n",
    "# Create building, address and building function class\n",
    "g.add((bag.Pand, RDF.type, OWL.Class))\n",
    "g.add((bag.Address, RDF.type, OWL.Class))\n",
    "g.add((bag.BuildingFunction, RDF.type, OWL.Class))\n",
    "\n",
    "# Create ObjectProperties that link buildings to addresses and functions\n",
    "g.add((bag.pandrelatering, RDF.type, OWL.ObjectProperty))\n",
    "g.add((bag.pandrelatering, RDFS.domain, bag.BuildingFunction))\n",
    "g.add((bag.pandrelatering, RDFS.range, bag.Pand))\n",
    "g.add((bag.hoofdadres, RDF.type, OWL.ObjectProperty))\n",
    "g.add((bag.hoofdadres, RDFS.domain, bag.Pand))\n",
    "g.add((bag.hoofdadres, RDFS.range, bag.Address))"
   ]
  },
  {
   "cell_type": "markdown",
   "metadata": {},
   "source": []
  },
  {
   "cell_type": "markdown",
   "metadata": {},
   "source": []
  },
  {
   "cell_type": "code",
   "execution_count": null,
   "metadata": {},
   "outputs": [],
   "source": []
  },
  {
   "cell_type": "code",
   "execution_count": null,
   "metadata": {},
   "outputs": [],
   "source": []
  }
 ],
 "metadata": {
  "kernelspec": {
   "display_name": "Python 3",
   "language": "python",
   "name": "python3"
  },
  "language_info": {
   "codemirror_mode": {
    "name": "ipython",
    "version": 3
   },
   "file_extension": ".py",
   "mimetype": "text/x-python",
   "name": "python",
   "nbconvert_exporter": "python",
   "pygments_lexer": "ipython3",
   "version": "3.6.6"
  }
 },
 "nbformat": 4,
 "nbformat_minor": 1
}
