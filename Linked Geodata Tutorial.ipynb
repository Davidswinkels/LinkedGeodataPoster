{
 "cells": [
  {
   "cell_type": "markdown",
   "metadata": {
    "collapsed": true
   },
   "source": [
    "# Linked Geodata tutorial\n",
    "- Author: David Swinkels\n",
    "- Date 03 September 2018\n"
   ]
  },
  {
   "cell_type": "markdown",
   "metadata": {},
   "source": [
    "# Introduction\n",
    "\n",
    "<div style=\"text-align: justify\"> Linked data is a set of design principles to publish data on the web and to perform data management to save relations of features in a graph database. Linked data provides the best current method to make links in data understandable by machines and humans via the web and locally. Linked geodata adds a spatial component to linked data. </div>\n",
    "\n",
    "This notebook will showcase some theory and how to make linked geodata."
   ]
  },
  {
   "cell_type": "code",
   "execution_count": 1,
   "metadata": {},
   "outputs": [],
   "source": [
    "# Import all libraries\n",
    "import geopandas as gpd\n",
    "import pandas as pd\n",
    "import requests\n",
    "import folium\n",
    "\n",
    "from rdflib import Graph, Namespace, RDF, RDFS, OWL, Literal, URIRef\n",
    "from folium.map import *\n",
    "import shapely.wkt\n",
    "from IPython.display import display"
   ]
  },
  {
   "cell_type": "markdown",
   "metadata": {},
   "source": [
    "# Concept\n",
    "<div style=\"text-align: justify\"> The concept of linked data is elegantly simple; storing relations and sharing individual resources via unique IRIs. Linked data is often visualized in a graph to show relations (see figure below) and the data is stored in relations as triples instead of values in columns and rows. A triple consists of three resources: a subject, a predicate and an object. The predicate defines the type of relation the subject and object have. Furthermore, each resource, whether that is a subject, predicate or object, is stored as an IRI. An IRI is an International Resource Identifier and similar as a Uniform Resource Identifier [URI] or Uniform Resource Locator [URL], but an IRI also allows international characters. Objects can optionally be stored as literals, such as a string, integer or date. Triples store relations in a framework called Resource Description Framework [RDF]. RDF supports data merging with different schemas and evolving schemas. Linked data allows a query to find out who the grandfather of Angie is based on semantic relations. </div>\n",
    "\n",
    "<img src=\"./images/LinkedDataGraph.png\">"
   ]
  },
  {
   "cell_type": "markdown",
   "metadata": {},
   "source": [
    "<div style=\"text-align: justify\"> An RDF stores a vocabulary and instances. A vocabulary defines the concepts and relationships in an area of concern. Vocabularies store classes and properties.Instances are entities of classes. </div>\n",
    "\n",
    "|Triple notation: | subject | predicate | object |\n",
    "|------|------|------|------|\n",
    "|Class definition: | <dbo:Person> | <rdf:type> | <rdfs:Class> |\n",
    "|Property definition: | <dbo:spouse> | <rdf:type> | <owl:ObjectProperty>|\n",
    "|Entity instance: | <person:Maggie> | <rdf:type> | <dbo:Person>|\n",
    "|Relation instance: | <person:Maggie> | <dbo:spouse> | <person:Peter>|\n",
    "|Value instance: | <person:Angie> | <dbo:birthDate> | 15 May 2001|\n",
    "\n",
    "\n",
    "\n",
    "\n",
    "<div style=\"text-align: justify\"> Long IRIs, that link to unique resources, are shortened with a prefix to improve readability and save data storage. IRI 'http://www.dbpedia.org/ontology/Person' is shortened to dbo:Person. Dbo is the shortened prefix that links to the namespace 'http://www.dbpedia.org/ontology/' and Person is the unique ID or Class. Instead of having to say 'http://www.dbpedia.org/ontology/Mother', you can refer to the IRI as dbo:Mother. The prefix and namespaces are defined in the RDF file before the triple instances. The graph is stored as triples with namespaces and prefixes. These namespaces and prefixes can be re-used. This is very powerful, because the semantics are persistent and are used across domains. One public ontology is the building ontology from the land administration office in the Netherlands. This ontology stores all classes, properties, concepts, regulations and restrictions of building data as can be seen below. </div>\n"
   ]
  },
  {
   "cell_type": "code",
   "execution_count": 2,
   "metadata": {},
   "outputs": [],
   "source": [
    "# Download building Ontology\n",
    "tripleHeader = {'Accept': 'text/turtle'}\n",
    "response = requests.get(\"  http://bag.basisregistraties.overheid.nl/def/bag\", headers=tripleHeader)\n",
    "#print(response.text)"
   ]
  },
  {
   "cell_type": "markdown",
   "metadata": {},
   "source": [
    "The downloaded building ontology is very complete. We will get some more hands-on experience with linked data by making our own ontology. The goal is to define classes and relations to be able to integrate multiple types of data. The building data of the BAG is seperated in buildings, addresses and building functions. An ontology makes it possible to create entities that are connected."
   ]
  },
  {
   "cell_type": "code",
   "execution_count": 3,
   "metadata": {},
   "outputs": [],
   "source": [
    "# Create empty graph\n",
    "g = Graph()"
   ]
  },
  {
   "cell_type": "markdown",
   "metadata": {},
   "source": [
    "Now create some Namespace for the objects and the concepts. The namespaces of the objects will be used later to store buildings, addresses and building functions. The concepts are binded to the graph as a prefix."
   ]
  },
  {
   "cell_type": "code",
   "execution_count": 4,
   "metadata": {},
   "outputs": [],
   "source": [
    "buildingNamespace = Namespace('https://bag.nl/id/building/')\n",
    "addressNamespace = Namespace('https://bag.nl/id/address/')\n",
    "buildingFunctionNamespace = Namespace('https://bag.nl/id/buildingfunction/')\n",
    "geosparql = Namespace('http://www.opengis.net/ont/geosparql#')\n",
    "g.bind(prefix=\"geosparql\", namespace=geosparql)\n",
    "bag = Namespace('http://bag.nl/def/bag#')\n",
    "g.bind(prefix=\"bag\", namespace=bag)\n"
   ]
  },
  {
   "cell_type": "markdown",
   "metadata": {},
   "source": [
    "Let's check what is in the graph."
   ]
  },
  {
   "cell_type": "code",
   "execution_count": 5,
   "metadata": {},
   "outputs": [
    {
     "name": "stdout",
     "output_type": "stream",
     "text": [
      "@prefix bag: <http://bag.nl/def/bag#> .\n@prefix geosparql: <http://www.opengis.net/ont/geosparql#> .\n@prefix rdf: <http://www.w3.org/1999/02/22-rdf-syntax-ns#> .\n@prefix rdfs: <http://www.w3.org/2000/01/rdf-schema#> .\n@prefix xml: <http://www.w3.org/XML/1998/namespace> .\n@prefix xsd: <http://www.w3.org/2001/XMLSchema#> .\n\n\n"
     ]
    }
   ],
   "source": [
    "print(g.serialize(format=\"turtle\").decode(\"utf-8\"))\n"
   ]
  },
  {
   "cell_type": "markdown",
   "metadata": {},
   "source": [
    "The added bag prefix is visible. Furthermore, the graph shows the standard prefixes RDF, RDFS, XML and XSD. To give a very brief explanation. RDF is used to define classes, subject, predicates and objects, RDFS to define subclasses, properties, domains, ranges and labels, XML is a standard to write markup language with prefixes and XSD defines how datatypes are saved. More information can be found on W3C specifications. "
   ]
  },
  {
   "cell_type": "markdown",
   "metadata": {},
   "source": [
    "Now some classes can be added. The OWL ontology is used to define the classes together with RDF. Let's make the classes for building, address and building function. Later instances can be added to these classes to become instance of that specific class."
   ]
  },
  {
   "cell_type": "code",
   "execution_count": 6,
   "metadata": {},
   "outputs": [],
   "source": [
    "# Create building, address and building function class\n",
    "g.add((bag.Building, RDF.type, OWL.Class))\n",
    "g.add((bag.Address, RDF.type, OWL.Class))\n",
    "g.add((bag.BuildingFunction, RDF.type, OWL.Class))"
   ]
  },
  {
   "cell_type": "markdown",
   "metadata": {},
   "source": [
    "After adding the classes, the properties can be added. There are two types of properties: object and datatype. Object properties links two instances of different classes and will be used as a predicate later. For example an object property is the predicate \"main address\" that links the subject building and an object address. The domain and range can be specified of an object property to specify which subjects and objects can. The domain specifies and limits the possible subjects belonging to the predicate. The range does the same for objects. So the predicate \"hasFunction\", that is an object property, always has the subject \"Building\" and object \"BuildingFunction\"."
   ]
  },
  {
   "cell_type": "code",
   "execution_count": 7,
   "metadata": {},
   "outputs": [],
   "source": [
    "# Create ObjectProperties that link buildings to addresses and functions\n",
    "g.add((bag.hasFunction, RDF.type, OWL.ObjectProperty))\n",
    "g.add((bag.hasFunction, RDFS.domain, bag.Building))\n",
    "g.add((bag.hasFunction, RDFS.range, bag.BuildingFunction))\n",
    "g.add((bag.hasAddress, RDF.type, OWL.ObjectProperty))\n",
    "g.add((bag.hasAddress, RDFS.domain, bag.Building))\n",
    "g.add((bag.hasAddress, RDFS.range, bag.Address))"
   ]
  },
  {
   "cell_type": "markdown",
   "metadata": {},
   "source": [
    "Datatype properties are the predicates that link subjects to a specific value, string or date. Example datatype properties are status, function or address.\n"
   ]
  },
  {
   "cell_type": "code",
   "execution_count": 8,
   "metadata": {},
   "outputs": [],
   "source": [
    "g.add((bag.hasStatus, RDF.type, OWL.DatatypeProperty))\n",
    "g.add((bag.hasStatus, RDFS.label, Literal(\"Status of a building\", lang=\"En\")))\n",
    "g.add((bag.hasStatus, RDFS.domain, bag.Building))\n",
    "g.add((bag.function, RDF.type, OWL.DatatypeProperty))\n",
    "g.add((bag.function, RDFS.label, Literal(\"Function of a building function. Each building can have multiple functions.\", lang=\"En\")))\n",
    "g.add((bag.function, RDFS.domain, bag.BuildingFunction))\n",
    "g.add((bag.address, RDF.type, OWL.DatatypeProperty))\n",
    "g.add((bag.address, RDFS.label, Literal(\"Postal address of building\", lang=\"En\")))\n",
    "g.add((bag.address, RDFS.domain, bag.Address))"
   ]
  },
  {
   "cell_type": "markdown",
   "metadata": {},
   "source": [
    "Okay we did add more triples to the graph. Check what is in there."
   ]
  },
  {
   "cell_type": "code",
   "execution_count": 9,
   "metadata": {},
   "outputs": [
    {
     "name": "stdout",
     "output_type": "stream",
     "text": [
      "@prefix bag: <http://bag.nl/def/bag#> .\n@prefix geosparql: <http://www.opengis.net/ont/geosparql#> .\n@prefix rdf: <http://www.w3.org/1999/02/22-rdf-syntax-ns#> .\n@prefix rdfs: <http://www.w3.org/2000/01/rdf-schema#> .\n@prefix xml: <http://www.w3.org/XML/1998/namespace> .\n@prefix xsd: <http://www.w3.org/2001/XMLSchema#> .\n\nbag:address a <http://www.w3.org/2002/07/owl#DatatypeProperty> ;\n    rdfs:label \"Postal address of building\"@En ;\n    rdfs:domain bag:Address .\n\nbag:function a <http://www.w3.org/2002/07/owl#DatatypeProperty> ;\n    rdfs:label \"Function of a building function. Each building can have multiple functions.\"@En ;\n    rdfs:domain bag:BuildingFunction .\n\nbag:hasAddress a <http://www.w3.org/2002/07/owl#ObjectProperty> ;\n    rdfs:domain bag:Building ;\n    rdfs:range bag:Address .\n\nbag:hasFunction a <http://www.w3.org/2002/07/owl#ObjectProperty> ;\n    rdfs:domain bag:Building ;\n    rdfs:range bag:BuildingFunction .\n\nbag:hasStatus a <http://www.w3.org/2002/07/owl#DatatypeProperty> ;\n    rdfs:label \"Status of a building\"@En ;\n    rdfs:domain bag:Building .\n\nbag:Address a <http://www.w3.org/2002/07/owl#Class> .\n\nbag:BuildingFunction a <http://www.w3.org/2002/07/owl#Class> .\n\nbag:Building a <http://www.w3.org/2002/07/owl#Class> .\n\n\n"
     ]
    }
   ],
   "source": [
    "print(g.serialize(format='turtle').decode(\"utf-8\"))"
   ]
  },
  {
   "cell_type": "markdown",
   "metadata": {},
   "source": [
    "We can see that the Properties and Classes have been added to the graph. Let's add some data.\n"
   ]
  },
  {
   "cell_type": "code",
   "execution_count": 10,
   "metadata": {},
   "outputs": [],
   "source": [
    "buildings = gpd.read_file(\"./data/building.geojson\")\n",
    "addresses = gpd.read_file(\"./data/address.geojson\")\n",
    "buildingFunctions = gpd.read_file(\"./data/buildingfunction.geojson\")\n",
    "rdnew_crs = {'init': 'epsg:28992'}\n",
    "buildings.crs = rdnew_crs"
   ]
  },
  {
   "cell_type": "code",
   "execution_count": 11,
   "metadata": {},
   "outputs": [],
   "source": [
    "wgs84_crs = {'init': 'epsg:4326'}\n",
    "buildings.to_crs(wgs84_crs, inplace=True)\n",
    "addresses.to_crs(wgs84_crs, inplace=True)\n",
    "buildingFunctions.to_crs(wgs84_crs, inplace=True)"
   ]
  },
  {
   "cell_type": "code",
   "execution_count": 12,
   "metadata": {
    "collapsed": true
   },
   "outputs": [],
   "source": [
    "m = folium.Map([52.0928, 5.1062], zoom_start=18, tiles='cartodbpositron')\n",
    "\n",
    "folium.GeoJson(buildings, name=\"Buildings\", style_function=lambda feature: {'fillColor': \"Red\", 'color': \"Black\"}).add_to(m)\n",
    "folium.GeoJson(addresses, name=\"Addresses\").add_to(m)\n",
    "folium.GeoJson(buildingFunctions, name=\"BuildingFunctions\").add_to(m)\n",
    "folium.LatLngPopup().add_to(m)\n",
    "folium.LayerControl().add_to(m)\n",
    "display(m)"
   ]
  },
  {
   "cell_type": "markdown",
   "metadata": {},
   "source": [
    "Okay we created a map with buildings, addresses and building functions. How can these be linked?\n",
    "The related unique IDs are the key to link the datasets. So in the GeoDataframe we should check which unique IDs match:"
   ]
  },
  {
   "cell_type": "code",
   "execution_count": 13,
   "metadata": {
    "collapsed": true
   },
   "outputs": [
    {
     "name": "stdout",
     "output_type": "stream",
     "text": [
      "--------------------------------------- Building -------------------------------------\nFID                                                       86881\npandid                                         0344100000005566\nbouwjaar                                                   1915\nofficieel                                                     N\nstatus                                          Pand in gebruik\nbegindatum                                     2010061000000000\neinddatum                                                      \ndocumentda                                             20100610\ndocumentnu                                       SO.10.04.70.82\naanduiding                                                    N\nshape_Leng                                              38.3041\nshape_Area                                              62.8222\nverblijfso                 03440100000599312010061000000000N000\nadresseerb                                     0344010000059931\ngeometry      POLYGON ((5.106549879822784 52.09237026642134,...\nName: 0, dtype: object\n--------------------------------------- Address -------------------------------------\nFID                                                   316\nidentifica                               0344200000007206\nhuisnummer                                              4\nhuisletter                                               \nhuisnumm_1                                               \npostcode                                           3531BL\nopenbareru                                   Blekerstraat\nwoonplaats                                        Utrecht\nadrestype                                      Hoofdadres\ntypeadress                                Verblijfsobject\nadresseerb                     Verblijfsobject in gebruik\nadressee_1                                           punt\nadressee_2                               0344010000008735\nopenbare_1                               0344300000002878\nwoonplaa_1                                           3295\ngeometry      POINT (5.106171733775843 52.09246176309077)\nName: 0, dtype: object\n--------------------------------------- Building function -------------------------------------\nFID                                                   378\nversieiden           03440100000087352010061000000000N000\nidentifica                               0344010000008735\nofficieel                                               N\noppervlakt                                             76\nstatus                         Verblijfsobject in gebruik\nbegindatum                               2010061000000000\neinddatum                                                \ndocumentda                                       20100610\ndocumentnu                                 SO.10.04.70.82\naanduiding                                              N\nhoofdadres                               0344200000007206\ngebruiksdo                                    woonfunctie\ngebruiks_1                                    woonfunctie\ngebr_woonf                                              1\ngebr_bijee                                              0\ngebr_celfu                                              0\ngebr_gezon                                              0\ngebr_indus                                              0\ngebr_kanto                                              0\ngebr_logie                                              0\ngebr_onder                                              0\ngebr_sport                                              0\ngebr_winke                                              0\ngebr_overi                                              0\ngeometriet                                           punt\ngeometry      POINT (5.106171733775843 52.09246176309077)\nName: 0, dtype: object\n"
     ]
    }
   ],
   "source": [
    "print(\"--------------------------------------- Building -------------------------------------\")\n",
    "print(buildings.iloc[0])\n",
    "print(\"--------------------------------------- Address -------------------------------------\")\n",
    "print(addresses.iloc[0])\n",
    "print(\"--------------------------------------- Building function -------------------------------------\")\n",
    "print(buildingFunctions.iloc[0])"
   ]
  },
  {
   "cell_type": "markdown",
   "metadata": {},
   "source": [
    "Some of the explanations are in Dutch. So let me help. The buildings and addresses can be linked by the \"addreseerb\" column of the building and the \"identifica\" of the address. The building and building function can be linked on the \"verblijfso\" of the building and \"versieiden\" of the building function. We iterate over the buildings and give all the links as object properties and datatype properties. Same for the addresses and building function.\n"
   ]
  },
  {
   "cell_type": "code",
   "execution_count": 14,
   "metadata": {
    "collapsed": true
   },
   "outputs": [],
   "source": [
    "for index, building in buildings.iterrows():\n",
    "    buildingIRI = buildingNamespace + building['pandid']\n",
    "    g.add((URIRef(buildingIRI), RDF.type, bag.Building))\n",
    "    g.add((URIRef(buildingIRI), bag.hasStatus, Literal(building['status'])))\n",
    "    if building['adresseerb'] is not \" \":\n",
    "        addressIRI = addressNamespace + building['adresseerb']\n",
    "        g.add((URIRef(buildingIRI), bag.hasAddress, URIRef(addressIRI)))\n",
    "    if building['verblijfso'] is not \" \":\n",
    "        buildingFunctionIRI = buildingFunctionNamespace + building['verblijfso']\n",
    "        g.add((URIRef(buildingIRI), bag.hasFunction, URIRef(buildingFunctionIRI)))\n",
    "    g.add((URIRef(buildingIRI), geosparql.asWKT, Literal(building['geometry'])))\n",
    "\n",
    "for index, address in addresses.iterrows():\n",
    "    addressIRI = addressNamespace + address['adressee_2']\n",
    "    g.add((URIRef(addressIRI), RDF.type, bag.Address))\n",
    "    addressText = \"%s %s %s %s\" % (address['openbareru'], address['huisnummer'], \n",
    "                                   address['postcode'], address['woonplaats'])\n",
    "    g.add((URIRef(addressIRI), bag.address, Literal(addressText)))\n",
    "    g.add((URIRef(addressIRI), geosparql.asWKT, Literal(address['geometry'])))\n",
    "    \n",
    "for index, buildingFunction in buildingFunctions.iterrows():\n",
    "    buildingFunctionIRI = buildingFunctionNamespace + buildingFunction['versieiden']\n",
    "    g.add((URIRef(buildingFunctionIRI), RDF.type, bag.BuildingFunction))\n",
    "    g.add((URIRef(buildingFunctionIRI), bag.function, Literal(str(buildingFunction['gebruiksdo']))))   \n",
    "    if buildingFunction['gebruiks_1'] is not \" \":\n",
    "        g.add((URIRef(buildingFunctionIRI), bag.function, Literal(str(buildingFunction['gebruiks_1']))))\n",
    "    g.add((URIRef(buildingFunctionIRI), geosparql.asWKT, Literal(buildingFunction['geometry'])))"
   ]
  },
  {
   "cell_type": "markdown",
   "metadata": {},
   "source": [
    "The buildings, addresses and building functions are added to the same schema! This means two things. Firstly, the schema of the concepts and the data of physical objects are stored in the same data! Secondly, data of various physical objects is stored in the same schema! Just think how mind blowing that is. Everything. I mean everyyyyyything can be stored in the graph and connected to related objects. Let's have a look at the related objects in the graph."
   ]
  },
  {
   "cell_type": "markdown",
   "metadata": {},
   "source": [
    "By scrolling through the buildings, the connections to addresses and building functions can be seen. These connections can also be queried with SPARQL."
   ]
  },
  {
   "cell_type": "code",
   "execution_count": 15,
   "metadata": {
    "collapsed": true
   },
   "outputs": [
    {
     "name": "stdout",
     "output_type": "stream",
     "text": [
      "https://bag.nl/id/building/0344100000070881 http://bag.nl/def/bag#hasFunction https://bag.nl/id/buildingfunction/03440100000449502010061000000000N000\nhttps://bag.nl/id/buildingfunction/03440100001670452017032900000000N000 http://bag.nl/def/bag#function overige gebruiksfunctie\nhttps://bag.nl/id/building/0344100000019018 http://bag.nl/def/bag#hasFunction https://bag.nl/id/buildingfunction/03440100001430502010061000000000N000\nhttps://bag.nl/id/building/0344100000016743 http://bag.nl/def/bag#hasAddress https://bag.nl/id/address/0344010000044631\nhttps://bag.nl/id/building/0344100000023304 http://bag.nl/def/bag#hasAddress https://bag.nl/id/address/0344010000031476\nhttps://bag.nl/id/address/0344010000029425 http://www.w3.org/1999/02/22-rdf-syntax-ns#type http://bag.nl/def/bag#Address\nhttps://bag.nl/id/address/0344010000031472 http://bag.nl/def/bag#address Lange Hagelstraat 52 3531BK Utrecht\nhttps://bag.nl/id/address/0344010000141113 http://bag.nl/def/bag#address Blekerstraat 3 3531BL Utrecht\nhttps://bag.nl/id/buildingfunction/03440100001427642010061000000000N000 http://www.w3.org/1999/02/22-rdf-syntax-ns#type http://bag.nl/def/bag#BuildingFunction\nhttps://bag.nl/id/buildingfunction/03440100000371602013081500000000N000 http://www.w3.org/1999/02/22-rdf-syntax-ns#type http://bag.nl/def/bag#BuildingFunction\n"
     ]
    }
   ],
   "source": [
    "response = g.query(\"SELECT * WHERE { ?s ?p ?o .} LIMIT 10\")\n",
    "\n",
    "for row in response:\n",
    "    print(\"%s %s %s\" % row)\n"
   ]
  },
  {
   "cell_type": "markdown",
   "metadata": {},
   "source": [
    "Let's get the address and building function related to one specific building."
   ]
  },
  {
   "cell_type": "code",
   "execution_count": 16,
   "metadata": {},
   "outputs": [
    {
     "name": "stdout",
     "output_type": "stream",
     "text": [
      "<https://bag.nl/id/building/0344100000065003>http://bag.nl/def/bag#hasAddress https://bag.nl/id/address/0344010000149095\n<https://bag.nl/id/building/0344100000065003>http://bag.nl/def/bag#hasFunction https://bag.nl/id/buildingfunction/03440100000599302010061000000000N000\n<https://bag.nl/id/building/0344100000065003>http://bag.nl/def/bag#hasFunction https://bag.nl/id/buildingfunction/03440100001490952010061000000000N000\n<https://bag.nl/id/building/0344100000065003>http://bag.nl/def/bag#hasAddress https://bag.nl/id/address/0344010000059930\n<https://bag.nl/id/building/0344100000065003>http://bag.nl/def/bag#hasStatus Pand in gebruik\n<https://bag.nl/id/building/0344100000065003>http://www.w3.org/1999/02/22-rdf-syntax-ns#type http://bag.nl/def/bag#Building\n<https://bag.nl/id/building/0344100000065003>http://www.opengis.net/ont/geosparql#asWKT POLYGON ((5.106746214649831 52.09240553536949, 5.106755223736506 52.09238599876256, 5.106767986939192 52.09235652129271, 5.106718096501726 52.0923472078326, 5.106717327523013 52.09234883284361, 5.106572197217012 52.09232278164907, 5.106549879822784 52.09237026642134, 5.106746214649831 52.09240553536949))\n"
     ]
    }
   ],
   "source": [
    "buildingIRI = \"<https://bag.nl/id/building/0344100000065003>\"\n",
    "response = g.query(\"SELECT * WHERE { %s ?p ?o .}\" % buildingIRI)\n",
    "\n",
    "for row in response:\n",
    "    print(buildingIRI + \"%s %s\" % row)"
   ]
  },
  {
   "cell_type": "markdown",
   "metadata": {},
   "source": [
    "The building is of the type \"Building\". Furthermore, we can see that the building has two addresses, two building functions and a status. We only get information attached to the building. Perhaps we want to get information on the building function."
   ]
  },
  {
   "cell_type": "code",
   "execution_count": 17,
   "metadata": {},
   "outputs": [
    {
     "name": "stdout",
     "output_type": "stream",
     "text": [
      "https://bag.nl/id/buildingfunction/03440100000599302010061000000000N000\nhttps://bag.nl/id/buildingfunction/03440100001490952010061000000000N000\n"
     ]
    }
   ],
   "source": [
    "buildingIRI = \"<https://bag.nl/id/building/0344100000065003>\"\n",
    "response = g.query((\"SELECT ?BuildingFunction WHERE { %s <http://bag.nl/def/bag#hasFunction> ?BuildingFunction .}\") % buildingIRI)\n",
    "\n",
    "for row in response:\n",
    "    print(\"%s\" % row)"
   ]
  },
  {
   "cell_type": "code",
   "execution_count": 18,
   "metadata": {},
   "outputs": [
    {
     "name": "stdout",
     "output_type": "stream",
     "text": [
      "<https://bag.nl/id/building/0344100000065003> has https://bag.nl/id/buildingfunction/03440100000599302010061000000000N000, which has the function woonfunctie\n<https://bag.nl/id/building/0344100000065003> has https://bag.nl/id/buildingfunction/03440100001490952010061000000000N000, which has the function woonfunctie\n"
     ]
    }
   ],
   "source": [
    "buildingIRI = \"<https://bag.nl/id/building/0344100000065003>\"\n",
    "response = g.query((\"SELECT ?BuildingFunction ?function WHERE { \" +\n",
    "                    \"%s <http://bag.nl/def/bag#hasFunction> ?BuildingFunction .\" +\n",
    "                    \"?BuildingFunction bag:function ?function \"\n",
    "                    \"}\") % buildingIRI)\n",
    "\n",
    "for row in response:\n",
    "    print(buildingIRI + \" has %s, which has the function %s\" % row)"
   ]
  },
  {
   "cell_type": "markdown",
   "metadata": {},
   "source": [
    "Okay now we know this specific building has the \"woonfunctie\", which is residential function. \n",
    "Without linking the data we could not have know that this building was used for residential purposes."
   ]
  },
  {
   "cell_type": "code",
   "execution_count": 19,
   "metadata": {},
   "outputs": [
    {
     "name": "stdout",
     "output_type": "stream",
     "text": [
      "<https://bag.nl/id/building/0344100000065003> has https://bag.nl/id/buildingfunction/03440100000599302010061000000000N000, which has the function woonfunctie\n<https://bag.nl/id/building/0344100000065003> has https://bag.nl/id/buildingfunction/03440100001490952010061000000000N000, which has the function woonfunctie\n"
     ]
    }
   ],
   "source": [
    "buildingIRI = \"<https://bag.nl/id/building/0344100000065003>\"\n",
    "response = g.query((\"SELECT ?BuildingFunction ?function WHERE { \" +\n",
    "                    \"%s <http://bag.nl/def/bag#hasFunction> ?BuildingFunction .\" +\n",
    "                    \"?BuildingFunction bag:function ?function \"\n",
    "                    \"}\") % buildingIRI)\n",
    "\n",
    "for row in response:\n",
    "    print(buildingIRI + \" has %s, which has the function %s\" % row)"
   ]
  },
  {
   "cell_type": "markdown",
   "metadata": {},
   "source": [
    "Let's invert the relation and say that we only want to plot the buildings with residential function on the map. By specifying SELECT DISTINCT we only get unique buildings back."
   ]
  },
  {
   "cell_type": "code",
   "execution_count": 20,
   "metadata": {},
   "outputs": [
    {
     "name": "stdout",
     "output_type": "stream",
     "text": [
      "https://bag.nl/id/building/0344100000044994 has residential function\nhttps://bag.nl/id/building/0344100000073812 has residential function\nhttps://bag.nl/id/building/0344100000065003 has residential function\nhttps://bag.nl/id/building/0344100000019018 has residential function\nhttps://bag.nl/id/building/0344100000063761 has residential function\nhttps://bag.nl/id/building/0344100000062232 has residential function\nhttps://bag.nl/id/building/0344100000032623 has residential function\nhttps://bag.nl/id/building/0344100000026216 has residential function\nhttps://bag.nl/id/building/0344100000009825 has residential function\nhttps://bag.nl/id/building/0344100000036193 has residential function\nhttps://bag.nl/id/building/0344100000008692 has residential function\nhttps://bag.nl/id/building/0344100000036781 has residential function\nhttps://bag.nl/id/building/0344100000007267 has residential function\nhttps://bag.nl/id/building/0344100000070881 has residential function\nhttps://bag.nl/id/building/0344100000011024 has residential function\nhttps://bag.nl/id/building/0344100000032622 has residential function\nhttps://bag.nl/id/building/0344100000054143 has residential function\nhttps://bag.nl/id/building/0344100000036194 has residential function\nhttps://bag.nl/id/building/0344100000019852 has residential function\nhttps://bag.nl/id/building/0344100000016743 has residential function\nhttps://bag.nl/id/building/0344100000073254 has residential function\nhttps://bag.nl/id/building/0344100000008693 has residential function\nhttps://bag.nl/id/building/0344100000016063 has residential function\nhttps://bag.nl/id/building/0344100000064532 has residential function\nhttps://bag.nl/id/building/0344100000034333 has residential function\nhttps://bag.nl/id/building/0344100000072349 has residential function\nhttps://bag.nl/id/building/0344100000024223 has residential function\nhttps://bag.nl/id/building/0344100000017501 has residential function\nhttps://bag.nl/id/building/0344100000005566 has residential function\nhttps://bag.nl/id/building/0344100000034351 has residential function\nhttps://bag.nl/id/building/0344100000068265 has residential function\nhttps://bag.nl/id/building/0344100000034334 has residential function\nhttps://bag.nl/id/building/0344100000034662 has residential function\nhttps://bag.nl/id/building/0344100000066786 has residential function\nhttps://bag.nl/id/building/0344100000023304 has residential function\n"
     ]
    }
   ],
   "source": [
    "response = g.query(('''SELECT DISTINCT ?building WHERE { ''' +\n",
    "                    '''?building <http://bag.nl/def/bag#hasFunction> ?BuildingFunction .''' +\n",
    "                    '''?BuildingFunction bag:function \"woonfunctie\" .}'''))\n",
    "\n",
    "for row in response:\n",
    "    print(\"%s has residential function\" % row)"
   ]
  },
  {
   "cell_type": "markdown",
   "metadata": {},
   "source": [
    "Now we want to visualize these buildings with a residential function. The building geometries are extracted with SPARQL."
   ]
  },
  {
   "cell_type": "code",
   "execution_count": 21,
   "metadata": {},
   "outputs": [],
   "source": [
    "responses = g.query(('''SELECT DISTINCT ?buildingGeom WHERE { ''' +\n",
    "                    '''?building <http://bag.nl/def/bag#hasFunction> ?BuildingFunction .''' +\n",
    "                    '''?BuildingFunction bag:function \"woonfunctie\" .''' +\n",
    "                    '''?building geosparql:asWKT ?buildingGeom}'''))\n",
    "\n",
    "buildingGeomList = []\n",
    "for response in responses:\n",
    "    text = \"%s\" % response\n",
    "    buildingGeomList.append(str(text))\n",
    "    \n",
    "buildingsResidential = pd.Series(buildingGeomList)\n",
    "geometry = buildingsResidential.apply(shapely.wkt.loads)\n",
    "\n",
    "buildingsResidential.apply(shapely.wkt.loads)\n",
    "crs = {'init': 'epsg:4326'}\n",
    "buildingsResidential_gdf = gpd.GeoDataFrame(buildingsResidential, crs=crs, geometry=geometry)\n"
   ]
  },
  {
   "cell_type": "code",
   "execution_count": 22,
   "metadata": {
    "collapsed": true
   },
   "outputs": [],
   "source": [
    "m = folium.Map([52.0928, 5.1062], zoom_start=18, tiles='cartodbpositron')\n",
    "folium.GeoJson(buildings.geometry, name=\"Buildings\", style_function=lambda feature: {'fillColor': 'White', 'color': 'Red'}).add_to(m)\n",
    "folium.GeoJson(buildingsResidential_gdf.geometry, name=\"Buildings with residential function\", style_function=lambda feature: {'fillColor': 'White', 'color': 'Green'}).add_to(m)\n",
    "folium.LatLngPopup().add_to(m)\n",
    "folium.LayerControl().add_to(m)\n",
    "display(m)"
   ]
  },
  {
   "cell_type": "markdown",
   "metadata": {},
   "source": [
    "Ok cool we have the buildings with a residential function, but we also want to know the address of these buildings. So we can add the geometry and address of the address."
   ]
  },
  {
   "cell_type": "code",
   "execution_count": 23,
   "metadata": {
    "collapsed": true
   },
   "outputs": [],
   "source": [
    "responses = g.query(('''SELECT DISTINCT ?addressGeom ?addressText WHERE { ''' +\n",
    "                    '''?building <http://bag.nl/def/bag#hasFunction> ?BuildingFunction .''' +\n",
    "                    '''?BuildingFunction bag:function \"woonfunctie\" .''' +\n",
    "                    '''?building <http://bag.nl/def/bag#hasAddress> ?Address .''' +\n",
    "                    '''?Address geosparql:asWKT ?addressGeom .''' +\n",
    "                    '''?Address bag:address ?addressText}'''))\n",
    "\n",
    "addressGeomList = []\n",
    "addressTextList = []\n",
    "for response in responses:\n",
    "    addressGeom = \"%s\" % str(response.addressGeom.toPython())\n",
    "    addressText = \"%s\" % str(response.addressText.toPython())\n",
    "    addressGeomList.append(addressGeom)\n",
    "    addressTextList.append(addressText)\n",
    "\n",
    "addresses = pd.DataFrame({\"addressGeom\": addressGeomList, \"addressText\": addressTextList})\n",
    "geometry = addresses['addressGeom'].apply(shapely.wkt.loads)\n",
    "addresses.drop(columns=['addressGeom'], inplace=True)\n",
    "crs = {'init': 'epsg:4326'}\n",
    "addresses_gdf = gpd.GeoDataFrame(addresses, crs=crs, geometry=geometry)"
   ]
  },
  {
   "cell_type": "code",
   "execution_count": 24,
   "metadata": {
    "collapsed": true
   },
   "outputs": [],
   "source": [
    "m = folium.Map([52.0928, 5.1062], zoom_start=18, tiles='cartodbpositron')\n",
    "icon = folium.Icon(color='black')\n",
    "for index, address in addresses_gdf.iterrows():\n",
    "    lon, lat = address.geometry.coords.xy\n",
    "    Marker([lat[0], lon[0]], icon=folium.Icon(color=\"black\", icon='info-sign'), popup=address['addressText']).add_to(m)\n",
    "folium.GeoJson(buildings.geometry, name=\"Buildings\", style_function=lambda feature: {'fillColor': 'White', 'color': 'Red'}).add_to(m)\n",
    "folium.GeoJson(buildingsResidential_gdf.geometry, name=\"Buildings with residential function\", style_function=lambda feature: {'fillColor': 'White', 'color': 'Green'}).add_to(m)\n",
    "folium.LayerControl().add_to(m)\n",
    "display(m)"
   ]
  },
  {
   "cell_type": "markdown",
   "metadata": {},
   "source": [
    "Hopefully the tutorial was interesting. Another [recommended SPARQL tutorial](https://wouterbeek.github.io/presentation/SPARQL-Tutorial.html#/) to continue learning is from Wouter Beek at Triply/VU Amsterdam that developed 3D visualizations for GeoSPARQL queries. ![3D GeoSPARLQ](https://wouterbeek.github.io/resource/img/3d/boelelaan.png)"
   ]
  }
 ],
 "metadata": {
  "kernelspec": {
   "display_name": "Python 3",
   "language": "python",
   "name": "python3"
  },
  "language_info": {
   "codemirror_mode": {
    "name": "ipython",
    "version": 3
   },
   "file_extension": ".py",
   "mimetype": "text/x-python",
   "name": "python",
   "nbconvert_exporter": "python",
   "pygments_lexer": "ipython3",
   "version": "3.6.6"
  }
 },
 "nbformat": 4,
 "nbformat_minor": 1
}
